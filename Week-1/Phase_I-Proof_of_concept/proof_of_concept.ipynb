{
 "cells": [
  {
   "cell_type": "markdown",
   "metadata": {},
   "source": [
    "<p align = \"center\" draggable=”false” ><img src=\"https://user-images.githubusercontent.com/37101144/161836199-fdb0219d-0361-4988-bf26-48b0fad160a3.png\"\n",
    "     width=\"200px\"\n",
    "     height=\"auto\"/>\n",
    "</p>\n",
    "\n",
    "\n",
    "\n",
    "# <h1 align=\"center\" id=\"heading\">Phase I - Proof of Concept</h1>\n",
    "\n",
    "\n",
    "\n",
    "## ☑️ Objectives\n",
    "At the end of this session, you will have a brief understanding of how to:\n",
    "- [ ] Find and run pre-trained models (Phase I)\n",
    "- [ ] Evaluate results from pre-trained models (Phase I)\n",
    "- [ ] Run a pre-trained model using real Reddit data (Phase I)\n",
    "\n",
    "\n",
    "## 🛠️ Pre-Assignment\n",
    "1. Create a virtual environment with 🐍 conda : `conda env create -f environment.yml`\n",
    "\n",
    "2. Activate your conda virtual environment: `conda activate tsla_bot`\n",
    "\n",
    "3. Create a .env file in the root directory and add the following variables:\n",
    "4. \n",
    "   `STOCK_API_KEY` : API key from [twelvedata](https://twelvedata.com/pricing)\n",
    "\n",
    "   `REDDIT_API_CLIENT_ID` : client ID of your reddit app\n",
    "   \n",
    "   `REDDIT_API_CLIENT_SECRET`: client secret of your reddit app\n",
    "   \n",
    "   Follow this tutorial to generate your own Reddit credentials:\n",
    "   <https://www.jcchouinard.com/get-reddit-api-credentials-with-praw/>\n",
    "\n",
    "4. Continue in this notebook\n",
    "\n",
    "\n",
    "\n",
    "## Background\n"
   ]
  },
  {
   "cell_type": "markdown",
   "metadata": {},
   "source": [
    "After the meeting with your boss, and reviewing your [notes](https://www.notion.so/Analyzing-Market-Sentiment-Phase-I-II-and-II-End-to-End-MLOps-with-Open-Source-Tools-dc4b846108b44f6bb2962d550368560c#54cc350bc95041ee873dabde36930af1) 📓, you're ready to get going on a Proof of Concept (POC)\n",
    "\n",
    "A POC tests the validity of your hypothesis. It's a way to prove that your idea, task, app, or whatever else works!\n",
    "\n",
    "There's no time to waste - you've got an idea - it's time to get testing it out! 🏁"
   ]
  },
  {
   "cell_type": "markdown",
   "metadata": {},
   "source": [
    "### Step 1: Initial Imports and Variable Setting 📈\n",
    "\n",
    "First things first: Let's set some variables that will help us going forward.\n",
    "\n",
    "Though your boss suggested `\"TSLA\"`, you can use any active stock-symbol and subreddit!\n",
    "\n",
    "**IMPORTANT**: Make sure you verify that your selected subreddit exists by navigating to the generated link after you run the following cell"
   ]
  },
  {
   "cell_type": "code",
   "execution_count": 1,
   "metadata": {},
   "outputs": [
    {
     "name": "stdout",
     "output_type": "stream",
     "text": [
      "reddit.com/r/TSLA\n"
     ]
    }
   ],
   "source": [
    "from datetime import datetime, timedelta\n",
    "\n",
    "### START CODE HERE\n",
    "\n",
    "# Stock data to grab ex. \"TSLA\"\n",
    "symbol = 'TSLA'\n",
    "\n",
    "# subreddit to check\n",
    "subreddit = 'TSLA'\n",
    "\n",
    "# Time interval granularity\n",
    "# valid choices are \"1week\", \"1month\", \"1day\"\n",
    "interval = '1day'\n",
    "\n",
    "# set the beginning and end of the time range you'd like to analyze\n",
    "# ensure you use the format \"YYYY-MM-DD\"\n",
    "start_date ='2022-01-01'\n",
    "end_date = '2022-07-06'\n",
    "\n",
    "### END CODE HERE\n",
    "\n",
    "start_date_dt = datetime.strptime(start_date, '%Y-%m-%d')\n",
    "end_date_dt = datetime.strptime(end_date, '%Y-%m-%d')\n",
    "\n",
    "print(f'reddit.com/r/{subreddit}')"
   ]
  },
  {
   "cell_type": "markdown",
   "metadata": {},
   "source": [
    "In order to make sure we can import our `BotUtils.py`, we have to ensure we're running from the `TSLASentimentAnalyzer` folder. To do this, we can `cd` into that directory!"
   ]
  },
  {
   "cell_type": "code",
   "execution_count": 2,
   "metadata": {},
   "outputs": [
    {
     "name": "stdout",
     "output_type": "stream",
     "text": [
      "/home/dnautiyal/dev/code/IntroToMLOps/Week-1/Phase_I-Proof_of_concept\n"
     ]
    }
   ],
   "source": [
    "!pwd"
   ]
  },
  {
   "cell_type": "code",
   "execution_count": 3,
   "metadata": {},
   "outputs": [],
   "source": [
    "!cd TSLASentimentAnalyzer"
   ]
  },
  {
   "cell_type": "markdown",
   "metadata": {},
   "source": [
    "### Step 2: Set Environment Variables ⛰️\n",
    "\n",
    "Use the information you created in the instructions of the `README.md` to fill in the values below!"
   ]
  },
  {
   "cell_type": "code",
   "execution_count": 4,
   "metadata": {},
   "outputs": [
    {
     "data": {
      "text/plain": [
       "True"
      ]
     },
     "execution_count": 4,
     "metadata": {},
     "output_type": "execute_result"
    }
   ],
   "source": [
    "# define env variables for configuration\n",
    "import os\n",
    "from dotenv import load_dotenv\n",
    "\n",
    "load_dotenv()"
   ]
  },
  {
   "cell_type": "markdown",
   "metadata": {},
   "source": [
    "### Step 3: Get to Scraping 🌐\n",
    "\n",
    "Now we're going to use the `scraper` module (found in the `TSLASentimentAnalyzer` folder) to \"scrape\" the subreddit of our choosing for posts!\n",
    "\n",
    "⚗️ RESOURCES: \n",
    "\n",
    "[Web Scraping](https://www.parsehub.com/blog/what-is-web-scraping/)\n",
    "\n",
    "[Reddit Post Options](https://www.reddit.com/r/help/comments/32eu8w/what_is_the_difference_between_newrising_hot_top/)"
   ]
  },
  {
   "cell_type": "markdown",
   "metadata": {},
   "source": [
    "##### Initializing the Scraper"
   ]
  },
  {
   "cell_type": "code",
   "execution_count": 5,
   "metadata": {},
   "outputs": [],
   "source": [
    "import pandas as pd\n",
    "from loguru import logger\n",
    "from TSLASentimentAnalyzer.classifier import predict\n",
    "from TSLASentimentAnalyzer.scraper import RedditScraper\n",
    "from TSLASentimentAnalyzer.config import settings\n",
    "\n",
    "# instantiating the reddit scraper\n",
    "reddit = RedditScraper()### YOUR LINE OF CODE HERE"
   ]
  },
  {
   "cell_type": "markdown",
   "metadata": {},
   "source": [
    "##### Helper Functions 🔨\n",
    "\n",
    "Here are some helper functions to assist in collecting data!"
   ]
  },
  {
   "cell_type": "code",
   "execution_count": 12,
   "metadata": {},
   "outputs": [],
   "source": [
    "from collections.abc import Callable\n",
    "def load_data(number: int, scraping_option: Callable):\n",
    "    '''\n",
    "    loads comments from reddit using the RedditScraper using one of the options\n",
    "    and returns a DataFrame\n",
    "    '''\n",
    "    comments = []\n",
    "    for submission in scraping_option(number):\n",
    "        comments.extend(reddit.get_comment_forest(submission.comments))\n",
    "        logger.debug(\n",
    "            submission.title,\n",
    "            submission.num_comments,\n",
    "            len(reddit.get_comment_forest(submission.comments)),\n",
    "        )\n",
    "    df = pd.DataFrame(comments)\n",
    "    return df\n",
    "\n",
    "\n",
    "def select_scrap_type(option: str):\n",
    "    '''\n",
    "    selects a method from the reddit object based on a given option\n",
    "    '''\n",
    "    if option == \"Hot\":\n",
    "        return reddit.get_hot\n",
    "        \n",
    "    if option == \"Rising\":\n",
    "        return reddit.get_rising\n",
    "\n",
    "    if option == \"New\":\n",
    "        return reddit.get_new"
   ]
  },
  {
   "cell_type": "markdown",
   "metadata": {},
   "source": [
    "##### Loading & Processing the Reddit Comment Data\n",
    "\n",
    "Let's scrape the 15 🔥 hottest 🔥 posts from your selected subreddit using the `load_data()` helper function!"
   ]
  },
  {
   "cell_type": "code",
   "execution_count": 13,
   "metadata": {},
   "outputs": [
    {
     "name": "stderr",
     "output_type": "stream",
     "text": [
      "2022-07-08 20:05:15.298 | DEBUG    | TSLASentimentAnalyzer.scraper:get_comment_forest:41 - <praw.models.comment_forest.CommentForest object at 0x7f2f040aea60>\n",
      "2022-07-08 20:05:15.299 | DEBUG    | TSLASentimentAnalyzer.scraper:get_comment_forest:41 - <praw.models.comment_forest.CommentForest object at 0x7f2f040aea60>\n",
      "2022-07-08 20:05:15.299 | DEBUG    | __main__:load_data:10 - Musk backs out of Twitter deal. Why no action in this sub of 13000 people?\n",
      "2022-07-08 20:05:21.443 | DEBUG    | TSLASentimentAnalyzer.scraper:get_comment_forest:41 - <praw.models.comment_forest.CommentForest object at 0x7f2e9f96b8b0>\n",
      "2022-07-08 20:05:21.444 | DEBUG    | TSLASentimentAnalyzer.scraper:get_comment_forest:41 - <praw.models.comment_forest.CommentForest object at 0x7f2e9f96b8b0>\n",
      "2022-07-08 20:05:21.445 | DEBUG    | __main__:load_data:10 - TSLA Sentiment Up on Musk Children and Twitter News\n",
      "2022-07-08 20:05:25.075 | DEBUG    | TSLASentimentAnalyzer.scraper:get_comment_forest:41 - <praw.models.comment_forest.CommentForest object at 0x7f2e9f96bd00>\n",
      "2022-07-08 20:05:25.076 | DEBUG    | TSLASentimentAnalyzer.scraper:get_comment_forest:41 - <praw.models.comment_forest.CommentForest object at 0x7f2e9f96bd00>\n",
      "2022-07-08 20:05:25.077 | DEBUG    | __main__:load_data:10 - Is Tesla the most important stock in the market?\n",
      "2022-07-08 20:05:27.233 | DEBUG    | TSLASentimentAnalyzer.scraper:get_comment_forest:41 - <praw.models.comment_forest.CommentForest object at 0x7f2e9f96bb20>\n",
      "2022-07-08 20:05:27.234 | DEBUG    | TSLASentimentAnalyzer.scraper:get_comment_forest:41 - <praw.models.comment_forest.CommentForest object at 0x7f2e9f96bb20>\n",
      "2022-07-08 20:05:27.235 | DEBUG    | __main__:load_data:10 - Tesla is still the world's largest electric car producer despite what you are hearing\n",
      "2022-07-08 20:05:28.847 | DEBUG    | TSLASentimentAnalyzer.scraper:get_comment_forest:41 - <praw.models.comment_forest.CommentForest object at 0x7f2e9f96bd30>\n",
      "2022-07-08 20:05:28.848 | DEBUG    | TSLASentimentAnalyzer.scraper:get_comment_forest:41 - <praw.models.comment_forest.CommentForest object at 0x7f2e9f96bd30>\n",
      "2022-07-08 20:05:28.849 | DEBUG    | __main__:load_data:10 - Tesla sold 78,000 China-made vehicles in June, up 142% vs May -CPCA estimates\n",
      "2022-07-08 20:05:30.006 | DEBUG    | TSLASentimentAnalyzer.scraper:get_comment_forest:41 - <praw.models.comment_forest.CommentForest object at 0x7f2e9f952970>\n",
      "2022-07-08 20:05:30.007 | DEBUG    | TSLASentimentAnalyzer.scraper:get_comment_forest:41 - <praw.models.comment_forest.CommentForest object at 0x7f2e9f952970>\n",
      "2022-07-08 20:05:30.008 | DEBUG    | __main__:load_data:10 - Giga Berlin Planned 2 week upgrade for site ramp in production\n",
      "2022-07-08 20:05:31.111 | DEBUG    | TSLASentimentAnalyzer.scraper:get_comment_forest:41 - <praw.models.comment_forest.CommentForest object at 0x7f2e9f952f70>\n",
      "2022-07-08 20:05:31.112 | DEBUG    | TSLASentimentAnalyzer.scraper:get_comment_forest:41 - <praw.models.comment_forest.CommentForest object at 0x7f2e9f952f70>\n",
      "2022-07-08 20:05:31.113 | DEBUG    | __main__:load_data:10 - tsla is very good👍🏻\n",
      "2022-07-08 20:05:32.202 | DEBUG    | TSLASentimentAnalyzer.scraper:get_comment_forest:41 - <praw.models.comment_forest.CommentForest object at 0x7f2e9f97e7f0>\n",
      "2022-07-08 20:05:32.203 | DEBUG    | TSLASentimentAnalyzer.scraper:get_comment_forest:41 - <praw.models.comment_forest.CommentForest object at 0x7f2e9f97e7f0>\n",
      "2022-07-08 20:05:32.203 | DEBUG    | __main__:load_data:10 - Charging problems\n",
      "2022-07-08 20:05:33.435 | DEBUG    | TSLASentimentAnalyzer.scraper:get_comment_forest:41 - <praw.models.comment_forest.CommentForest object at 0x7f2e9f97e7c0>\n",
      "2022-07-08 20:05:33.436 | DEBUG    | TSLASentimentAnalyzer.scraper:get_comment_forest:41 - <praw.models.comment_forest.CommentForest object at 0x7f2e9f97e7c0>\n",
      "2022-07-08 20:05:33.437 | DEBUG    | __main__:load_data:10 - Musk forced to halt Tesla assembly line in struggling Berlin plant for 2 weeks over production problems\n",
      "2022-07-08 20:05:34.575 | DEBUG    | TSLASentimentAnalyzer.scraper:get_comment_forest:41 - <praw.models.comment_forest.CommentForest object at 0x7f2e9f97e760>\n",
      "2022-07-08 20:05:34.576 | DEBUG    | TSLASentimentAnalyzer.scraper:get_comment_forest:41 - <praw.models.comment_forest.CommentForest object at 0x7f2e9f97e760>\n",
      "2022-07-08 20:05:34.577 | DEBUG    | __main__:load_data:10 - Tesla insurance\n",
      "2022-07-08 20:05:35.704 | DEBUG    | TSLASentimentAnalyzer.scraper:get_comment_forest:41 - <praw.models.comment_forest.CommentForest object at 0x7f2e9f97e970>\n",
      "2022-07-08 20:05:35.705 | DEBUG    | TSLASentimentAnalyzer.scraper:get_comment_forest:41 - <praw.models.comment_forest.CommentForest object at 0x7f2e9f97e970>\n",
      "2022-07-08 20:05:35.706 | DEBUG    | __main__:load_data:10 - Tesla Market share of EV's likely to fall soon from 70% to 11%\n",
      "2022-07-08 20:05:36.885 | DEBUG    | TSLASentimentAnalyzer.scraper:get_comment_forest:41 - <praw.models.comment_forest.CommentForest object at 0x7f2e9f9eb2e0>\n",
      "2022-07-08 20:05:36.886 | DEBUG    | TSLASentimentAnalyzer.scraper:get_comment_forest:41 - <praw.models.comment_forest.CommentForest object at 0x7f2e9f9eb2e0>\n",
      "2022-07-08 20:05:36.887 | DEBUG    | __main__:load_data:10 - 258,000 deliveries, slight above target despite supply chain issues!\n",
      "2022-07-08 20:05:37.531 | DEBUG    | TSLASentimentAnalyzer.scraper:get_comment_forest:41 - <praw.models.comment_forest.CommentForest object at 0x7f2e9f917910>\n",
      "2022-07-08 20:05:37.532 | DEBUG    | TSLASentimentAnalyzer.scraper:get_comment_forest:41 - <praw.models.comment_forest.CommentForest object at 0x7f2e9f917910>\n",
      "2022-07-08 20:05:37.533 | DEBUG    | __main__:load_data:10 - Tesla's 2Q sales drop amid supply chain, pandemic problems\n",
      "2022-07-08 20:05:38.718 | DEBUG    | TSLASentimentAnalyzer.scraper:get_comment_forest:41 - <praw.models.comment_forest.CommentForest object at 0x7f2e9f932c40>\n",
      "2022-07-08 20:05:38.719 | DEBUG    | TSLASentimentAnalyzer.scraper:get_comment_forest:41 - <praw.models.comment_forest.CommentForest object at 0x7f2e9f932c40>\n",
      "2022-07-08 20:05:38.720 | DEBUG    | __main__:load_data:10 - Options\n",
      "2022-07-08 20:05:39.890 | DEBUG    | TSLASentimentAnalyzer.scraper:get_comment_forest:41 - <praw.models.comment_forest.CommentForest object at 0x7f2e9f96b0a0>\n",
      "2022-07-08 20:05:39.891 | DEBUG    | TSLASentimentAnalyzer.scraper:get_comment_forest:41 - <praw.models.comment_forest.CommentForest object at 0x7f2e9f96b0a0>\n",
      "2022-07-08 20:05:39.892 | DEBUG    | __main__:load_data:10 - Everyone the decline in the price of TSLA is entirely my fault, sorry.\n"
     ]
    }
   ],
   "source": [
    "# Scraping data from reddit\n",
    "dfReddit = load_data(number=15, scraping_option =select_scrap_type(\"Hot\"))### YOUR LINE OF CODE HERE"
   ]
  },
  {
   "cell_type": "markdown",
   "metadata": {},
   "source": [
    "Once we have our comments, let's use the [`pandas.Series.str.slice()`](https://pandas.pydata.org/docs/reference/api/pandas.Series.str.slice.html) method to ensure our data will play nicely with our model. (`bert` only supports up to a maximum of 512 tokens, so a range of `0` to `512` seems appropriate)"
   ]
  },
  {
   "cell_type": "code",
   "execution_count": 15,
   "metadata": {},
   "outputs": [],
   "source": [
    "# slice comments as bert supports only 512 tokens\n",
    "dfReddit['comment'] = dfReddit['comment'].str.slice(0,512)### YOUR LINE OF CODE HERE"
   ]
  },
  {
   "cell_type": "markdown",
   "metadata": {},
   "source": [
    "### Step 5: Analyze the Comments! 🔍\n"
   ]
  },
  {
   "cell_type": "markdown",
   "metadata": {},
   "source": [
    "We'll be using the `FourthBrain/bert_model_reddit_tsla` model (found [here](https://huggingface.co/FourthBrain/bert_model_reddit_tsla)), which is based off of the `distilbert-base-uncased` (found [here](https://huggingface.co/distilbert-base-uncased))\n",
    "\n",
    "We'll use this model in a `sentiment-analysis` pipeline! (read all about that [here](https://huggingface.co/docs/transformers/main_classes/pipelines#transformers.pipeline.example))"
   ]
  },
  {
   "cell_type": "code",
   "execution_count": 16,
   "metadata": {},
   "outputs": [
    {
     "name": "stderr",
     "output_type": "stream",
     "text": [
      "2022-07-08 20:07:08.475759: I tensorflow/core/platform/cpu_feature_guard.cc:151] This TensorFlow binary is optimized with oneAPI Deep Neural Network Library (oneDNN) to use the following CPU instructions in performance-critical operations:  SSE4.1 SSE4.2 AVX AVX2 FMA\n",
      "To enable them in other operations, rebuild TensorFlow with the appropriate compiler flags.\n"
     ]
    }
   ],
   "source": [
    "from transformers import pipeline\n",
    "\n",
    "# initialize the sentiment pipeline\n",
    "sentiment_pipeline = pipeline(\"sentiment-analysis\", model='FourthBrain/bert_model_reddit_tsla') ### YOUR LINE OF CODE HERE\n",
    "\n",
    "\n",
    "reddit_json = sentiment_pipeline(dfReddit[\"comment\"].tolist())\n",
    "\n",
    "# Retrieve labels and scores\n",
    "dfReddit['label'] = [reddit_json[i]['label'] for i in range(0, len(reddit_json))]\n",
    "dfReddit['score'] = [reddit_json[i]['score'] for i in range(0, len(reddit_json))]\n"
   ]
  },
  {
   "cell_type": "markdown",
   "metadata": {},
   "source": [
    "Next up, we'll want to perform the following steps\n",
    "\n",
    "1. Convert the `created_at` column to the appropriate format and name it `'timestamp'`\n",
    "2. Normalize the dates using the `NormalizeDates()` helper function"
   ]
  },
  {
   "cell_type": "code",
   "execution_count": 17,
   "metadata": {},
   "outputs": [],
   "source": [
    "import numpy as np\n",
    "from BotUtils import NormalizeDates\n",
    "\n",
    "# Rename timestamp column \n",
    "dfReddit = dfReddit.rename(columns={'created_at': 'timestamp'})\n",
    "dfReddit['timestamp'] = [datetime.fromtimestamp(dt) for dt in dfReddit['timestamp'] ]\n",
    "\n",
    "# Normalize Reddit sentiment data\n",
    "dfReddit = NormalizeDates(dfReddit, timestamp_col=\"timestamp\", interval=interval)\n",
    "\n",
    "# Create a continous time series \n",
    "dfTimeSeries = pd.DataFrame(dfReddit[\"timestamp\"])"
   ]
  },
  {
   "cell_type": "markdown",
   "metadata": {},
   "source": [
    "### Step 6: Get Stock Data 🚀\n",
    "\n",
    "Next up, we're going to get the stock data and create a DataFrame - as well as normalize the dates, just like we did with the subreddit comment timestamps"
   ]
  },
  {
   "cell_type": "code",
   "execution_count": 18,
   "metadata": {},
   "outputs": [],
   "source": [
    "from BotUtils import GetStockData\n",
    "\n",
    "# Get Stock Data\n",
    "j, dfStockData = GetStockData(settings.stock_data_api_key, symbol=symbol, start_date=start_date, end_date=end_date, interval='1day')\n",
    "dfStockData = dfStockData[(dfStockData['timestamp'] >= start_date) & (dfStockData['timestamp'] <= end_date)]\n",
    "\n",
    "# Normalize stock price data\n",
    "dfStockData = NormalizeDates(dfStockData, timestamp_col=\"timestamp\", interval=interval)"
   ]
  },
  {
   "cell_type": "markdown",
   "metadata": {},
   "source": [
    "### Step 7: Merge Sentiment and Stock Data 🧬\n",
    "\n",
    "We've got some processing to do! "
   ]
  },
  {
   "cell_type": "code",
   "execution_count": 19,
   "metadata": {},
   "outputs": [],
   "source": [
    "# Join time series df with stock price df and reddit df\n",
    "dfSentiment = dfTimeSeries.merge(dfStockData, how='left', on=\"timestamp\")\n",
    "dfSentiment = dfSentiment.merge(dfReddit, how='left', on=\"timestamp\")\n",
    "\n",
    "# Filter down to only the columns that we'll be using \n",
    "dfSentiment = dfSentiment[['timestamp', 'close', 'volume', 'label', 'score']]\n",
    "\n",
    "# Clean up NaNs for closing price, score, and labels\n",
    "dfSentiment['close'] = dfSentiment['close'].fillna(0)\n",
    "dfSentiment['score'] = dfSentiment['score'].fillna(0)\n",
    "dfSentiment['label'] = dfSentiment['label'].fillna('NEUTRAL')\n",
    "dfSentiment['label'] = ['NEGATIVE' for s in dfSentiment['label'] == 'LABEL_0']\n",
    "dfSentiment['label'] = ['POSITIVE' for s in dfSentiment['label'] == 'LABEL_1']\n",
    "\n",
    "# Convert close from string to float\n",
    "dfSentiment['close'] = dfSentiment['close'].astype('float')\n",
    "\n",
    "# Calculate weighted sentiment\n",
    "dfSentiment['sentiment'] = [1 if sentiment == \"POSITIVE\"  else 0 if sentiment == \"NEUTRAL\" else -1 for sentiment in dfSentiment['label'].tolist() ]\n",
    "dfSentiment['weighted_sentiment'] = dfSentiment['sentiment'] * dfSentiment['score']\n",
    "\n",
    "# Count only the POSITIVE and NEGATIVE labels (NEUTRAL is just a filler for missing dates)\n",
    "dfSentiment['counter'] = [1 if sentiment == \"POSITIVE\"  else 1 if sentiment == \"NEGATIVE\" else 0 for sentiment in dfSentiment['label'].tolist() ]\n",
    "\n",
    "# Group by to calculate Reddit post count and sentiment score (mean of weighted sentiment)\n",
    "dfSentiment = dfSentiment.groupby('timestamp') \\\n",
    "       .agg({'counter':'sum', 'close':'max', 'volume':max, 'weighted_sentiment':'mean'}) \\\n",
    "       .rename(columns={'sentiment':'count_posts', 'weighted_sentiment':'sentiment_score'}) \\\n",
    "       .reset_index()\n"
   ]
  },
  {
   "cell_type": "code",
   "execution_count": 20,
   "metadata": {},
   "outputs": [
    {
     "data": {
      "text/html": [
       "<div>\n",
       "<style scoped>\n",
       "    .dataframe tbody tr th:only-of-type {\n",
       "        vertical-align: middle;\n",
       "    }\n",
       "\n",
       "    .dataframe tbody tr th {\n",
       "        vertical-align: top;\n",
       "    }\n",
       "\n",
       "    .dataframe thead th {\n",
       "        text-align: right;\n",
       "    }\n",
       "</style>\n",
       "<table border=\"1\" class=\"dataframe\">\n",
       "  <thead>\n",
       "    <tr style=\"text-align: right;\">\n",
       "      <th></th>\n",
       "      <th>timestamp</th>\n",
       "      <th>counter</th>\n",
       "      <th>close</th>\n",
       "      <th>volume</th>\n",
       "      <th>sentiment_score</th>\n",
       "    </tr>\n",
       "  </thead>\n",
       "  <tbody>\n",
       "    <tr>\n",
       "      <th>0</th>\n",
       "      <td>2022-06-30</td>\n",
       "      <td>64</td>\n",
       "      <td>673.41998</td>\n",
       "      <td>31533500</td>\n",
       "      <td>0.852949</td>\n",
       "    </tr>\n",
       "    <tr>\n",
       "      <th>1</th>\n",
       "      <td>2022-07-01</td>\n",
       "      <td>81</td>\n",
       "      <td>681.78998</td>\n",
       "      <td>24781500</td>\n",
       "      <td>0.864678</td>\n",
       "    </tr>\n",
       "    <tr>\n",
       "      <th>2</th>\n",
       "      <td>2022-07-02</td>\n",
       "      <td>361</td>\n",
       "      <td>0.00000</td>\n",
       "      <td>NaN</td>\n",
       "      <td>0.833952</td>\n",
       "    </tr>\n",
       "    <tr>\n",
       "      <th>3</th>\n",
       "      <td>2022-07-03</td>\n",
       "      <td>289</td>\n",
       "      <td>0.00000</td>\n",
       "      <td>NaN</td>\n",
       "      <td>0.888422</td>\n",
       "    </tr>\n",
       "    <tr>\n",
       "      <th>4</th>\n",
       "      <td>2022-07-04</td>\n",
       "      <td>784</td>\n",
       "      <td>0.00000</td>\n",
       "      <td>NaN</td>\n",
       "      <td>0.919358</td>\n",
       "    </tr>\n",
       "    <tr>\n",
       "      <th>5</th>\n",
       "      <td>2022-07-05</td>\n",
       "      <td>4</td>\n",
       "      <td>699.20001</td>\n",
       "      <td>28193700</td>\n",
       "      <td>0.989242</td>\n",
       "    </tr>\n",
       "    <tr>\n",
       "      <th>6</th>\n",
       "      <td>2022-07-06</td>\n",
       "      <td>289</td>\n",
       "      <td>695.20001</td>\n",
       "      <td>23951200</td>\n",
       "      <td>0.904416</td>\n",
       "    </tr>\n",
       "    <tr>\n",
       "      <th>7</th>\n",
       "      <td>2022-07-07</td>\n",
       "      <td>16</td>\n",
       "      <td>0.00000</td>\n",
       "      <td>NaN</td>\n",
       "      <td>0.954973</td>\n",
       "    </tr>\n",
       "    <tr>\n",
       "      <th>8</th>\n",
       "      <td>2022-07-08</td>\n",
       "      <td>64</td>\n",
       "      <td>0.00000</td>\n",
       "      <td>NaN</td>\n",
       "      <td>0.920198</td>\n",
       "    </tr>\n",
       "  </tbody>\n",
       "</table>\n",
       "</div>"
      ],
      "text/plain": [
       "   timestamp  counter      close    volume  sentiment_score\n",
       "0 2022-06-30       64  673.41998  31533500         0.852949\n",
       "1 2022-07-01       81  681.78998  24781500         0.864678\n",
       "2 2022-07-02      361    0.00000       NaN         0.833952\n",
       "3 2022-07-03      289    0.00000       NaN         0.888422\n",
       "4 2022-07-04      784    0.00000       NaN         0.919358\n",
       "5 2022-07-05        4  699.20001  28193700         0.989242\n",
       "6 2022-07-06      289  695.20001  23951200         0.904416\n",
       "7 2022-07-07       16    0.00000       NaN         0.954973\n",
       "8 2022-07-08       64    0.00000       NaN         0.920198"
      ]
     },
     "execution_count": 20,
     "metadata": {},
     "output_type": "execute_result"
    }
   ],
   "source": [
    "dfSentiment"
   ]
  },
  {
   "cell_type": "markdown",
   "metadata": {},
   "source": [
    "### Step 8: Final Computation 🖥️\n",
    "\n",
    "In this last step, we're going to finish up some calculations:\n",
    "\n",
    "1. Create the lags and percentage change for the closing stock price. \n",
    "2. Calculate the 3 month rolling average."
   ]
  },
  {
   "cell_type": "code",
   "execution_count": 21,
   "metadata": {},
   "outputs": [
    {
     "data": {
      "text/html": [
       "<div>\n",
       "<style scoped>\n",
       "    .dataframe tbody tr th:only-of-type {\n",
       "        vertical-align: middle;\n",
       "    }\n",
       "\n",
       "    .dataframe tbody tr th {\n",
       "        vertical-align: top;\n",
       "    }\n",
       "\n",
       "    .dataframe thead th {\n",
       "        text-align: right;\n",
       "    }\n",
       "</style>\n",
       "<table border=\"1\" class=\"dataframe\">\n",
       "  <thead>\n",
       "    <tr style=\"text-align: right;\">\n",
       "      <th></th>\n",
       "      <th>timestamp</th>\n",
       "      <th>counter</th>\n",
       "      <th>close</th>\n",
       "      <th>volume</th>\n",
       "      <th>sentiment_score</th>\n",
       "      <th>close_lag1</th>\n",
       "      <th>perc_change_close</th>\n",
       "      <th>sentiment_score_lag1</th>\n",
       "      <th>perc_change_sentiment</th>\n",
       "      <th>sentiment_SMA3mo</th>\n",
       "    </tr>\n",
       "  </thead>\n",
       "  <tbody>\n",
       "    <tr>\n",
       "      <th>1</th>\n",
       "      <td>2022-07-01</td>\n",
       "      <td>81</td>\n",
       "      <td>681.78998</td>\n",
       "      <td>24781500</td>\n",
       "      <td>0.864678</td>\n",
       "      <td>673.41998</td>\n",
       "      <td>0.012429</td>\n",
       "      <td>0.852949</td>\n",
       "      <td>0.013751</td>\n",
       "      <td>0.000000</td>\n",
       "    </tr>\n",
       "    <tr>\n",
       "      <th>2</th>\n",
       "      <td>2022-07-02</td>\n",
       "      <td>361</td>\n",
       "      <td>0.00000</td>\n",
       "      <td>NaN</td>\n",
       "      <td>0.833952</td>\n",
       "      <td>681.78998</td>\n",
       "      <td>-1.000000</td>\n",
       "      <td>0.864678</td>\n",
       "      <td>-0.035535</td>\n",
       "      <td>0.850526</td>\n",
       "    </tr>\n",
       "    <tr>\n",
       "      <th>3</th>\n",
       "      <td>2022-07-03</td>\n",
       "      <td>289</td>\n",
       "      <td>0.00000</td>\n",
       "      <td>NaN</td>\n",
       "      <td>0.888422</td>\n",
       "      <td>0.00000</td>\n",
       "      <td>0.000000</td>\n",
       "      <td>0.833952</td>\n",
       "      <td>0.065316</td>\n",
       "      <td>0.862351</td>\n",
       "    </tr>\n",
       "    <tr>\n",
       "      <th>4</th>\n",
       "      <td>2022-07-04</td>\n",
       "      <td>784</td>\n",
       "      <td>0.00000</td>\n",
       "      <td>NaN</td>\n",
       "      <td>0.919358</td>\n",
       "      <td>0.00000</td>\n",
       "      <td>0.000000</td>\n",
       "      <td>0.888422</td>\n",
       "      <td>0.034822</td>\n",
       "      <td>0.880577</td>\n",
       "    </tr>\n",
       "    <tr>\n",
       "      <th>5</th>\n",
       "      <td>2022-07-05</td>\n",
       "      <td>4</td>\n",
       "      <td>699.20001</td>\n",
       "      <td>28193700</td>\n",
       "      <td>0.989242</td>\n",
       "      <td>0.00000</td>\n",
       "      <td>inf</td>\n",
       "      <td>0.919358</td>\n",
       "      <td>0.076013</td>\n",
       "      <td>0.932341</td>\n",
       "    </tr>\n",
       "    <tr>\n",
       "      <th>6</th>\n",
       "      <td>2022-07-06</td>\n",
       "      <td>289</td>\n",
       "      <td>695.20001</td>\n",
       "      <td>23951200</td>\n",
       "      <td>0.904416</td>\n",
       "      <td>699.20001</td>\n",
       "      <td>-0.005721</td>\n",
       "      <td>0.989242</td>\n",
       "      <td>-0.085748</td>\n",
       "      <td>0.937672</td>\n",
       "    </tr>\n",
       "    <tr>\n",
       "      <th>7</th>\n",
       "      <td>2022-07-07</td>\n",
       "      <td>16</td>\n",
       "      <td>0.00000</td>\n",
       "      <td>NaN</td>\n",
       "      <td>0.954973</td>\n",
       "      <td>695.20001</td>\n",
       "      <td>-1.000000</td>\n",
       "      <td>0.904416</td>\n",
       "      <td>0.055900</td>\n",
       "      <td>0.949544</td>\n",
       "    </tr>\n",
       "    <tr>\n",
       "      <th>8</th>\n",
       "      <td>2022-07-08</td>\n",
       "      <td>64</td>\n",
       "      <td>0.00000</td>\n",
       "      <td>NaN</td>\n",
       "      <td>0.920198</td>\n",
       "      <td>0.00000</td>\n",
       "      <td>0.000000</td>\n",
       "      <td>0.954973</td>\n",
       "      <td>-0.036415</td>\n",
       "      <td>0.926529</td>\n",
       "    </tr>\n",
       "  </tbody>\n",
       "</table>\n",
       "</div>"
      ],
      "text/plain": [
       "   timestamp  counter      close    volume  sentiment_score  close_lag1  \\\n",
       "1 2022-07-01       81  681.78998  24781500         0.864678   673.41998   \n",
       "2 2022-07-02      361    0.00000       NaN         0.833952   681.78998   \n",
       "3 2022-07-03      289    0.00000       NaN         0.888422     0.00000   \n",
       "4 2022-07-04      784    0.00000       NaN         0.919358     0.00000   \n",
       "5 2022-07-05        4  699.20001  28193700         0.989242     0.00000   \n",
       "6 2022-07-06      289  695.20001  23951200         0.904416   699.20001   \n",
       "7 2022-07-07       16    0.00000       NaN         0.954973   695.20001   \n",
       "8 2022-07-08       64    0.00000       NaN         0.920198     0.00000   \n",
       "\n",
       "   perc_change_close  sentiment_score_lag1  perc_change_sentiment  \\\n",
       "1           0.012429              0.852949               0.013751   \n",
       "2          -1.000000              0.864678              -0.035535   \n",
       "3           0.000000              0.833952               0.065316   \n",
       "4           0.000000              0.888422               0.034822   \n",
       "5                inf              0.919358               0.076013   \n",
       "6          -0.005721              0.989242              -0.085748   \n",
       "7          -1.000000              0.904416               0.055900   \n",
       "8           0.000000              0.954973              -0.036415   \n",
       "\n",
       "   sentiment_SMA3mo  \n",
       "1          0.000000  \n",
       "2          0.850526  \n",
       "3          0.862351  \n",
       "4          0.880577  \n",
       "5          0.932341  \n",
       "6          0.937672  \n",
       "7          0.949544  \n",
       "8          0.926529  "
      ]
     },
     "execution_count": 21,
     "metadata": {},
     "output_type": "execute_result"
    }
   ],
   "source": [
    "# Create lags and %change for closing stock price\n",
    "dfSentiment['close_lag1'] = dfSentiment['close'].shift(1)\n",
    "dfSentiment['close_lag1'] = dfSentiment['close_lag1'].fillna(0)\n",
    "dfSentiment['perc_change_close'] = (dfSentiment['close'] - dfSentiment['close_lag1']) / dfSentiment['close_lag1']\n",
    "dfSentiment['perc_change_close'] = dfSentiment['perc_change_close'].fillna(0)\n",
    "\n",
    "dfSentiment['sentiment_score_lag1'] = dfSentiment['sentiment_score'].shift(1)\n",
    "dfSentiment['sentiment_score_lag1'] = dfSentiment['sentiment_score_lag1'].fillna(0)\n",
    "dfSentiment['perc_change_sentiment'] = (dfSentiment['sentiment_score'] - dfSentiment['sentiment_score_lag1']) / dfSentiment['sentiment_score_lag1']\n",
    "\n",
    "# Calculate 3 month rolling average\n",
    "dfSentiment['sentiment_SMA3mo'] = dfSentiment.sentiment_score.rolling(3).mean()\n",
    "dfSentiment['sentiment_SMA3mo'] = dfSentiment['sentiment_SMA3mo'].fillna(0)\n",
    "\n",
    "dfSentiment = dfSentiment[1:]\n",
    "dfSentiment"
   ]
  },
  {
   "cell_type": "markdown",
   "metadata": {},
   "source": [
    "Let's save our work in a `.csv` for use later in the Streamlit app!"
   ]
  },
  {
   "cell_type": "code",
   "execution_count": 22,
   "metadata": {},
   "outputs": [],
   "source": [
    "# Save DataFrame locally (or somewhere else) for use in Streamlit app\n",
    "dfSentiment.to_csv('./sentiment_data.csv')"
   ]
  },
  {
   "cell_type": "markdown",
   "metadata": {},
   "source": [
    "### Step 8a: Plotting our Results! 📊\n",
    "\n",
    "Now, after all that, let's plot our results and see how they shape up!"
   ]
  },
  {
   "cell_type": "code",
   "execution_count": 23,
   "metadata": {},
   "outputs": [
    {
     "data": {
      "image/png": "[encoded data removed]",
      "text/plain": [
       "<Figure size 432x288 with 2 Axes>"
      ]
     },
     "metadata": {
      "needs_background": "light"
     },
     "output_type": "display_data"
    }
   ],
   "source": [
    "import matplotlib.pyplot as plt\n",
    "\n",
    "ax1 = dfSentiment.plot(kind = 'line', x = 'timestamp',\n",
    "                  y = 'sentiment_score', color = 'Red',\n",
    "                  linewidth = 3)\n",
    "\n",
    "ax2 = dfSentiment.plot(kind = 'line', x = 'timestamp',\n",
    "                   y = 'close', secondary_y = True,\n",
    "                   color = 'Blue',  linewidth = 3,\n",
    "                   ax = ax1) \n",
    "\n",
    "#labeling x and y-axis\n",
    "ax1.set_xlabel('Timestamp', color = 'black')\n",
    "ax1.set_ylabel('Sentiment Score', color = \"r\")\n",
    "ax2.set_ylabel('% Change Stock Price', color = 'b')\n",
    " \n",
    "#defining display layout\n",
    "plt.tight_layout()\n",
    " \n",
    "#show plot\n",
    "plt.show()"
   ]
  }
 ],
 "metadata": {
  "kernelspec": {
   "display_name": "Python 3.9.13 ('tsla_bot')",
   "language": "python",
   "name": "python3"
  },
  "language_info": {
   "codemirror_mode": {
    "name": "ipython",
    "version": 3
   },
   "file_extension": ".py",
   "mimetype": "text/x-python",
   "name": "python",
   "nbconvert_exporter": "python",
   "pygments_lexer": "ipython3",
   "version": "3.9.13"
  },
  "vscode": {
   "interpreter": {
    "hash": "3068b4c51224f0b91682ef5ef7eb3b540472ef1712d3b6e9fef2922355997dce"
   }
  }
 },
 "nbformat": 4,
 "nbformat_minor": 2
}
